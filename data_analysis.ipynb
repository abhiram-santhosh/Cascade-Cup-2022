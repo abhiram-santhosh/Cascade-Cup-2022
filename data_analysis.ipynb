{
 "cells": [
  {
   "cell_type": "code",
   "execution_count": 1,
   "metadata": {},
   "outputs": [],
   "source": [
    "import numpy as np\n",
    "import pandas as pd\n",
    "import matplotlib.pyplot as plt\n",
    "import seaborn as sns"
   ]
  },
  {
   "cell_type": "code",
   "execution_count": 2,
   "metadata": {},
   "outputs": [],
   "source": [
    "train_data = pd.read_csv('train_data.csv')\n",
    "call_data = pd.read_csv('call_data.csv', index_col=[0])"
   ]
  },
  {
   "cell_type": "code",
   "execution_count": 3,
   "metadata": {},
   "outputs": [],
   "source": [
    "call_data.insert(4, 'cancelled', 0)\n",
    "for order_id in train_data[train_data['cancelled'] == 1]['order_id'] :\n",
    "    call_data.loc[call_data['order_id'] == order_id, 'cancelled'] = 1"
   ]
  },
  {
   "cell_type": "code",
   "execution_count": 4,
   "metadata": {},
   "outputs": [],
   "source": [
    "train_data[train_data.duplicated(keep=False)]\n",
    "train_data.drop_duplicates(inplace=True)"
   ]
  },
  {
   "cell_type": "code",
   "execution_count": 5,
   "metadata": {},
   "outputs": [],
   "source": [
    "datetime_format = '%Y-%m-%d %H:%M:%S'\n",
    "error_type = 'coerce'\n",
    "\n",
    "for col in ['order_date','order_time','allot_time','accept_time','pickup_time','delivered_time','cancelled_time'] :\n",
    "    train_data[col] = pd.to_datetime(train_data[col], format=datetime_format, errors=error_type)"
   ]
  },
  {
   "cell_type": "code",
   "execution_count": 6,
   "metadata": {},
   "outputs": [
    {
     "name": "stdout",
     "output_type": "stream",
     "text": [
      "25\n"
     ]
    },
    {
     "data": {
      "text/html": [
       "<div>\n",
       "<style scoped>\n",
       "    .dataframe tbody tr th:only-of-type {\n",
       "        vertical-align: middle;\n",
       "    }\n",
       "\n",
       "    .dataframe tbody tr th {\n",
       "        vertical-align: top;\n",
       "    }\n",
       "\n",
       "    .dataframe thead th {\n",
       "        text-align: right;\n",
       "    }\n",
       "</style>\n",
       "<table border=\"1\" class=\"dataframe\">\n",
       "  <thead>\n",
       "    <tr style=\"text-align: right;\">\n",
       "      <th></th>\n",
       "      <th>order_time</th>\n",
       "      <th>order_id</th>\n",
       "      <th>order_date</th>\n",
       "      <th>allot_time</th>\n",
       "      <th>accept_time</th>\n",
       "      <th>pickup_time</th>\n",
       "      <th>delivered_time</th>\n",
       "      <th>rider_id</th>\n",
       "      <th>first_mile_distance</th>\n",
       "      <th>last_mile_distance</th>\n",
       "      <th>alloted_orders</th>\n",
       "      <th>delivered_orders</th>\n",
       "      <th>cancelled</th>\n",
       "      <th>undelivered_orders</th>\n",
       "      <th>lifetime_order_count</th>\n",
       "      <th>reassignment_method</th>\n",
       "      <th>reassignment_reason</th>\n",
       "      <th>reassigned_order</th>\n",
       "      <th>session_time</th>\n",
       "      <th>cancelled_time</th>\n",
       "    </tr>\n",
       "  </thead>\n",
       "  <tbody>\n",
       "    <tr>\n",
       "      <th>9893</th>\n",
       "      <td>2021-01-26 09:09:44</td>\n",
       "      <td>566646</td>\n",
       "      <td>2021-01-26</td>\n",
       "      <td>2021-01-26 09:53:44</td>\n",
       "      <td>2021-01-26 09:20:42</td>\n",
       "      <td>NaT</td>\n",
       "      <td>NaT</td>\n",
       "      <td>15012</td>\n",
       "      <td>2.3087</td>\n",
       "      <td>1.47</td>\n",
       "      <td>146.0</td>\n",
       "      <td>143.0</td>\n",
       "      <td>1</td>\n",
       "      <td>3.0</td>\n",
       "      <td>1757.0</td>\n",
       "      <td>auto</td>\n",
       "      <td>Reassign</td>\n",
       "      <td>1.0</td>\n",
       "      <td>240.733333</td>\n",
       "      <td>2021-01-26 10:02:22</td>\n",
       "    </tr>\n",
       "    <tr>\n",
       "      <th>11482</th>\n",
       "      <td>2021-01-26 10:21:44</td>\n",
       "      <td>568235</td>\n",
       "      <td>2021-01-26</td>\n",
       "      <td>2021-01-26 11:16:32</td>\n",
       "      <td>2021-01-26 10:25:02</td>\n",
       "      <td>NaT</td>\n",
       "      <td>NaT</td>\n",
       "      <td>21094</td>\n",
       "      <td>2.5128</td>\n",
       "      <td>0.14</td>\n",
       "      <td>2.0</td>\n",
       "      <td>2.0</td>\n",
       "      <td>1</td>\n",
       "      <td>0.0</td>\n",
       "      <td>22.0</td>\n",
       "      <td>auto</td>\n",
       "      <td>Reassign</td>\n",
       "      <td>1.0</td>\n",
       "      <td>267.650000</td>\n",
       "      <td>2021-01-26 11:18:37</td>\n",
       "    </tr>\n",
       "    <tr>\n",
       "      <th>18809</th>\n",
       "      <td>2021-01-26 14:15:25</td>\n",
       "      <td>575562</td>\n",
       "      <td>2021-01-26</td>\n",
       "      <td>2021-01-26 15:48:34</td>\n",
       "      <td>2021-01-26 14:17:56</td>\n",
       "      <td>NaT</td>\n",
       "      <td>NaT</td>\n",
       "      <td>1852</td>\n",
       "      <td>0.4747</td>\n",
       "      <td>4.39</td>\n",
       "      <td>145.0</td>\n",
       "      <td>145.0</td>\n",
       "      <td>1</td>\n",
       "      <td>0.0</td>\n",
       "      <td>1044.0</td>\n",
       "      <td>auto</td>\n",
       "      <td>Reassignment Request from SE portal.</td>\n",
       "      <td>1.0</td>\n",
       "      <td>395.950000</td>\n",
       "      <td>2021-01-26 15:49:16</td>\n",
       "    </tr>\n",
       "    <tr>\n",
       "      <th>80364</th>\n",
       "      <td>2021-01-28 07:26:28</td>\n",
       "      <td>480216</td>\n",
       "      <td>2021-01-28</td>\n",
       "      <td>2021-01-28 07:56:46</td>\n",
       "      <td>2021-01-28 07:31:28</td>\n",
       "      <td>NaT</td>\n",
       "      <td>NaT</td>\n",
       "      <td>2661</td>\n",
       "      <td>1.8565</td>\n",
       "      <td>5.45</td>\n",
       "      <td>NaN</td>\n",
       "      <td>NaN</td>\n",
       "      <td>1</td>\n",
       "      <td>NaN</td>\n",
       "      <td>49.0</td>\n",
       "      <td>auto</td>\n",
       "      <td>Reassign</td>\n",
       "      <td>1.0</td>\n",
       "      <td>5.300000</td>\n",
       "      <td>2021-01-28 08:03:34</td>\n",
       "    </tr>\n",
       "    <tr>\n",
       "      <th>86561</th>\n",
       "      <td>2021-01-28 09:52:09</td>\n",
       "      <td>486411</td>\n",
       "      <td>2021-01-28</td>\n",
       "      <td>2021-01-28 17:47:58</td>\n",
       "      <td>2021-01-28 09:52:24</td>\n",
       "      <td>NaT</td>\n",
       "      <td>NaT</td>\n",
       "      <td>17641</td>\n",
       "      <td>1.4031</td>\n",
       "      <td>4.86</td>\n",
       "      <td>12.0</td>\n",
       "      <td>12.0</td>\n",
       "      <td>1</td>\n",
       "      <td>0.0</td>\n",
       "      <td>108.0</td>\n",
       "      <td>NaN</td>\n",
       "      <td>Reassignment Request from SE portal.</td>\n",
       "      <td>1.0</td>\n",
       "      <td>NaN</td>\n",
       "      <td>2021-01-28 17:48:09</td>\n",
       "    </tr>\n",
       "  </tbody>\n",
       "</table>\n",
       "</div>"
      ],
      "text/plain": [
       "               order_time  order_id order_date          allot_time  \\\n",
       "9893  2021-01-26 09:09:44    566646 2021-01-26 2021-01-26 09:53:44   \n",
       "11482 2021-01-26 10:21:44    568235 2021-01-26 2021-01-26 11:16:32   \n",
       "18809 2021-01-26 14:15:25    575562 2021-01-26 2021-01-26 15:48:34   \n",
       "80364 2021-01-28 07:26:28    480216 2021-01-28 2021-01-28 07:56:46   \n",
       "86561 2021-01-28 09:52:09    486411 2021-01-28 2021-01-28 17:47:58   \n",
       "\n",
       "              accept_time pickup_time delivered_time  rider_id  \\\n",
       "9893  2021-01-26 09:20:42         NaT            NaT     15012   \n",
       "11482 2021-01-26 10:25:02         NaT            NaT     21094   \n",
       "18809 2021-01-26 14:17:56         NaT            NaT      1852   \n",
       "80364 2021-01-28 07:31:28         NaT            NaT      2661   \n",
       "86561 2021-01-28 09:52:24         NaT            NaT     17641   \n",
       "\n",
       "       first_mile_distance  last_mile_distance  alloted_orders  \\\n",
       "9893                2.3087                1.47           146.0   \n",
       "11482               2.5128                0.14             2.0   \n",
       "18809               0.4747                4.39           145.0   \n",
       "80364               1.8565                5.45             NaN   \n",
       "86561               1.4031                4.86            12.0   \n",
       "\n",
       "       delivered_orders  cancelled  undelivered_orders  lifetime_order_count  \\\n",
       "9893              143.0          1                 3.0                1757.0   \n",
       "11482               2.0          1                 0.0                  22.0   \n",
       "18809             145.0          1                 0.0                1044.0   \n",
       "80364               NaN          1                 NaN                  49.0   \n",
       "86561              12.0          1                 0.0                 108.0   \n",
       "\n",
       "      reassignment_method                   reassignment_reason  \\\n",
       "9893                 auto                              Reassign   \n",
       "11482                auto                              Reassign   \n",
       "18809                auto  Reassignment Request from SE portal.   \n",
       "80364                auto                              Reassign   \n",
       "86561                 NaN  Reassignment Request from SE portal.   \n",
       "\n",
       "       reassigned_order  session_time      cancelled_time  \n",
       "9893                1.0    240.733333 2021-01-26 10:02:22  \n",
       "11482               1.0    267.650000 2021-01-26 11:18:37  \n",
       "18809               1.0    395.950000 2021-01-26 15:49:16  \n",
       "80364               1.0      5.300000 2021-01-28 08:03:34  \n",
       "86561               1.0           NaN 2021-01-28 17:48:09  "
      ]
     },
     "execution_count": 6,
     "metadata": {},
     "output_type": "execute_result"
    }
   ],
   "source": [
    "df1 = train_data[train_data['allot_time'] > train_data['accept_time']]\n",
    "print(len(df1))\n",
    "df1.head()"
   ]
  },
  {
   "cell_type": "code",
   "execution_count": 7,
   "metadata": {},
   "outputs": [
    {
     "name": "stdout",
     "output_type": "stream",
     "text": [
      "10\n"
     ]
    },
    {
     "data": {
      "text/html": [
       "<div>\n",
       "<style scoped>\n",
       "    .dataframe tbody tr th:only-of-type {\n",
       "        vertical-align: middle;\n",
       "    }\n",
       "\n",
       "    .dataframe tbody tr th {\n",
       "        vertical-align: top;\n",
       "    }\n",
       "\n",
       "    .dataframe thead th {\n",
       "        text-align: right;\n",
       "    }\n",
       "</style>\n",
       "<table border=\"1\" class=\"dataframe\">\n",
       "  <thead>\n",
       "    <tr style=\"text-align: right;\">\n",
       "      <th></th>\n",
       "      <th>order_time</th>\n",
       "      <th>order_id</th>\n",
       "      <th>order_date</th>\n",
       "      <th>allot_time</th>\n",
       "      <th>accept_time</th>\n",
       "      <th>pickup_time</th>\n",
       "      <th>delivered_time</th>\n",
       "      <th>rider_id</th>\n",
       "      <th>first_mile_distance</th>\n",
       "      <th>last_mile_distance</th>\n",
       "      <th>alloted_orders</th>\n",
       "      <th>delivered_orders</th>\n",
       "      <th>cancelled</th>\n",
       "      <th>undelivered_orders</th>\n",
       "      <th>lifetime_order_count</th>\n",
       "      <th>reassignment_method</th>\n",
       "      <th>reassignment_reason</th>\n",
       "      <th>reassigned_order</th>\n",
       "      <th>session_time</th>\n",
       "      <th>cancelled_time</th>\n",
       "    </tr>\n",
       "  </thead>\n",
       "  <tbody>\n",
       "    <tr>\n",
       "      <th>96454</th>\n",
       "      <td>2021-01-28 14:30:24</td>\n",
       "      <td>496306</td>\n",
       "      <td>2021-01-28</td>\n",
       "      <td>2021-01-28 15:29:00</td>\n",
       "      <td>2021-01-28 15:29:10</td>\n",
       "      <td>2021-01-28 15:19:26</td>\n",
       "      <td>NaT</td>\n",
       "      <td>4078</td>\n",
       "      <td>0.4792</td>\n",
       "      <td>4.49</td>\n",
       "      <td>108.0</td>\n",
       "      <td>108.0</td>\n",
       "      <td>1</td>\n",
       "      <td>0.0</td>\n",
       "      <td>548.0</td>\n",
       "      <td>NaN</td>\n",
       "      <td>NaN</td>\n",
       "      <td>NaN</td>\n",
       "      <td>284.850000</td>\n",
       "      <td>2021-01-28 15:39:43</td>\n",
       "    </tr>\n",
       "    <tr>\n",
       "      <th>103632</th>\n",
       "      <td>2021-01-28 15:32:27</td>\n",
       "      <td>503487</td>\n",
       "      <td>2021-01-28</td>\n",
       "      <td>2021-01-28 15:43:29</td>\n",
       "      <td>2021-01-28 15:44:05</td>\n",
       "      <td>2021-01-28 15:38:40</td>\n",
       "      <td>NaT</td>\n",
       "      <td>9663</td>\n",
       "      <td>1.8386</td>\n",
       "      <td>2.07</td>\n",
       "      <td>21.0</td>\n",
       "      <td>21.0</td>\n",
       "      <td>1</td>\n",
       "      <td>0.0</td>\n",
       "      <td>781.0</td>\n",
       "      <td>NaN</td>\n",
       "      <td>NaN</td>\n",
       "      <td>NaN</td>\n",
       "      <td>118.450000</td>\n",
       "      <td>2021-01-28 16:03:49</td>\n",
       "    </tr>\n",
       "    <tr>\n",
       "      <th>193689</th>\n",
       "      <td>2021-01-30 17:19:43</td>\n",
       "      <td>432753</td>\n",
       "      <td>2021-01-30</td>\n",
       "      <td>2021-01-30 17:54:56</td>\n",
       "      <td>2021-01-30 17:55:22</td>\n",
       "      <td>2021-01-30 17:54:34</td>\n",
       "      <td>NaT</td>\n",
       "      <td>747</td>\n",
       "      <td>3.1831</td>\n",
       "      <td>1.76</td>\n",
       "      <td>100.0</td>\n",
       "      <td>100.0</td>\n",
       "      <td>1</td>\n",
       "      <td>0.0</td>\n",
       "      <td>330.0</td>\n",
       "      <td>auto</td>\n",
       "      <td>Reassignment Request from SE portal.</td>\n",
       "      <td>1.0</td>\n",
       "      <td>592.500000</td>\n",
       "      <td>2021-01-30 17:59:21</td>\n",
       "    </tr>\n",
       "    <tr>\n",
       "      <th>197387</th>\n",
       "      <td>2021-01-31 06:32:00</td>\n",
       "      <td>359608</td>\n",
       "      <td>2021-01-31</td>\n",
       "      <td>2021-01-31 07:30:32</td>\n",
       "      <td>2021-01-31 07:31:28</td>\n",
       "      <td>2021-01-31 07:10:07</td>\n",
       "      <td>NaT</td>\n",
       "      <td>1999</td>\n",
       "      <td>1.3277</td>\n",
       "      <td>4.49</td>\n",
       "      <td>156.0</td>\n",
       "      <td>153.0</td>\n",
       "      <td>1</td>\n",
       "      <td>3.0</td>\n",
       "      <td>1736.0</td>\n",
       "      <td>NaN</td>\n",
       "      <td>NaN</td>\n",
       "      <td>NaN</td>\n",
       "      <td>156.683333</td>\n",
       "      <td>2021-01-31 08:34:01</td>\n",
       "    </tr>\n",
       "    <tr>\n",
       "      <th>210900</th>\n",
       "      <td>2021-01-31 13:30:44</td>\n",
       "      <td>373121</td>\n",
       "      <td>2021-01-31</td>\n",
       "      <td>2021-01-31 14:46:52</td>\n",
       "      <td>2021-01-31 14:47:06</td>\n",
       "      <td>2021-01-31 13:41:53</td>\n",
       "      <td>NaT</td>\n",
       "      <td>3915</td>\n",
       "      <td>2.2699</td>\n",
       "      <td>1.47</td>\n",
       "      <td>103.0</td>\n",
       "      <td>102.0</td>\n",
       "      <td>1</td>\n",
       "      <td>1.0</td>\n",
       "      <td>538.0</td>\n",
       "      <td>auto</td>\n",
       "      <td>Reassignment Request from SE portal.</td>\n",
       "      <td>1.0</td>\n",
       "      <td>300.416667</td>\n",
       "      <td>2021-01-31 15:40:32</td>\n",
       "    </tr>\n",
       "  </tbody>\n",
       "</table>\n",
       "</div>"
      ],
      "text/plain": [
       "                order_time  order_id order_date          allot_time  \\\n",
       "96454  2021-01-28 14:30:24    496306 2021-01-28 2021-01-28 15:29:00   \n",
       "103632 2021-01-28 15:32:27    503487 2021-01-28 2021-01-28 15:43:29   \n",
       "193689 2021-01-30 17:19:43    432753 2021-01-30 2021-01-30 17:54:56   \n",
       "197387 2021-01-31 06:32:00    359608 2021-01-31 2021-01-31 07:30:32   \n",
       "210900 2021-01-31 13:30:44    373121 2021-01-31 2021-01-31 14:46:52   \n",
       "\n",
       "               accept_time         pickup_time delivered_time  rider_id  \\\n",
       "96454  2021-01-28 15:29:10 2021-01-28 15:19:26            NaT      4078   \n",
       "103632 2021-01-28 15:44:05 2021-01-28 15:38:40            NaT      9663   \n",
       "193689 2021-01-30 17:55:22 2021-01-30 17:54:34            NaT       747   \n",
       "197387 2021-01-31 07:31:28 2021-01-31 07:10:07            NaT      1999   \n",
       "210900 2021-01-31 14:47:06 2021-01-31 13:41:53            NaT      3915   \n",
       "\n",
       "        first_mile_distance  last_mile_distance  alloted_orders  \\\n",
       "96454                0.4792                4.49           108.0   \n",
       "103632               1.8386                2.07            21.0   \n",
       "193689               3.1831                1.76           100.0   \n",
       "197387               1.3277                4.49           156.0   \n",
       "210900               2.2699                1.47           103.0   \n",
       "\n",
       "        delivered_orders  cancelled  undelivered_orders  lifetime_order_count  \\\n",
       "96454              108.0          1                 0.0                 548.0   \n",
       "103632              21.0          1                 0.0                 781.0   \n",
       "193689             100.0          1                 0.0                 330.0   \n",
       "197387             153.0          1                 3.0                1736.0   \n",
       "210900             102.0          1                 1.0                 538.0   \n",
       "\n",
       "       reassignment_method                   reassignment_reason  \\\n",
       "96454                  NaN                                   NaN   \n",
       "103632                 NaN                                   NaN   \n",
       "193689                auto  Reassignment Request from SE portal.   \n",
       "197387                 NaN                                   NaN   \n",
       "210900                auto  Reassignment Request from SE portal.   \n",
       "\n",
       "        reassigned_order  session_time      cancelled_time  \n",
       "96454                NaN    284.850000 2021-01-28 15:39:43  \n",
       "103632               NaN    118.450000 2021-01-28 16:03:49  \n",
       "193689               1.0    592.500000 2021-01-30 17:59:21  \n",
       "197387               NaN    156.683333 2021-01-31 08:34:01  \n",
       "210900               1.0    300.416667 2021-01-31 15:40:32  "
      ]
     },
     "execution_count": 7,
     "metadata": {},
     "output_type": "execute_result"
    }
   ],
   "source": [
    "df2 = train_data[train_data['accept_time'] > train_data['pickup_time']]\n",
    "print(len(df2))\n",
    "df2.head()"
   ]
  },
  {
   "cell_type": "code",
   "execution_count": 8,
   "metadata": {},
   "outputs": [
    {
     "data": {
      "text/plain": [
       "array([], dtype=int64)"
      ]
     },
     "execution_count": 8,
     "metadata": {},
     "output_type": "execute_result"
    }
   ],
   "source": [
    "np.intersect1d(df1['order_id'], df2['order_id'])"
   ]
  },
  {
   "cell_type": "code",
   "execution_count": 9,
   "metadata": {},
   "outputs": [],
   "source": [
    "train_data['order_date_dayofweek'] = train_data['order_date'].dt.dayofweek\n",
    "train_data['order_time_hour'] = train_data['order_time'].dt.hour"
   ]
  },
  {
   "cell_type": "code",
   "execution_count": 10,
   "metadata": {},
   "outputs": [],
   "source": [
    "train_data['order_date_dayofweek'].replace(\n",
    "    {\n",
    "        0: 'Monday',\n",
    "        1: 'Tuesday',\n",
    "        2: 'Wednesday',\n",
    "        3: 'Thursday',\n",
    "        4: 'Friday',\n",
    "        5: 'Saturday',\n",
    "        6: 'Sunday'\n",
    "    },\n",
    "    inplace=True\n",
    ")"
   ]
  },
  {
   "cell_type": "code",
   "execution_count": 11,
   "metadata": {},
   "outputs": [],
   "source": [
    "train_data['diff_allot-order'] = (train_data.allot_time - train_data.order_time).astype('timedelta64[s]')\n",
    "train_data['diff_accept-allot'] = (train_data.accept_time - train_data.allot_time).astype('timedelta64[s]')\n",
    "train_data['diff_pickup-accept'] = (train_data.pickup_time - train_data.accept_time).astype('timedelta64[s]')\n",
    "train_data['diff_delivered-pickup'] = (train_data.delivered_time - train_data.pickup_time).astype('timedelta64[s]')"
   ]
  },
  {
   "cell_type": "code",
   "execution_count": 12,
   "metadata": {},
   "outputs": [],
   "source": [
    "train_data['fraction_undelivered'] = train_data['undelivered_orders']/train_data['alloted_orders']"
   ]
  },
  {
   "cell_type": "code",
   "execution_count": 13,
   "metadata": {},
   "outputs": [],
   "source": [
    "train_data['reassigned_order'] = train_data['reassigned_order'].fillna(0);\n",
    "train_data['reassigned_order'] = train_data['reassigned_order'].astype(int)"
   ]
  },
  {
   "cell_type": "code",
   "execution_count": 14,
   "metadata": {},
   "outputs": [],
   "source": [
    "train_data.drop(train_data[train_data['diff_allot-order'] < 0].index, inplace=True)\n",
    "train_data.drop(train_data[train_data['diff_accept-allot'] < 0].index, inplace=True)\n",
    "train_data.drop(train_data[train_data['diff_pickup-accept'] < 0].index, inplace=True)\n",
    "train_data.drop(train_data[train_data['diff_delivered-pickup'] < 0].index, inplace=True)"
   ]
  },
  {
   "cell_type": "code",
   "execution_count": 15,
   "metadata": {},
   "outputs": [],
   "source": [
    "cols_dropped = ['order_time','order_id','order_date','allot_time','accept_time','pickup_time','delivered_time','rider_id','alloted_orders','delivered_orders','undelivered_orders']\n",
    "train_data.drop(cols_dropped, axis=1, inplace=True)"
   ]
  },
  {
   "cell_type": "code",
   "execution_count": 16,
   "metadata": {},
   "outputs": [
    {
     "data": {
      "text/html": [
       "<div>\n",
       "<style scoped>\n",
       "    .dataframe tbody tr th:only-of-type {\n",
       "        vertical-align: middle;\n",
       "    }\n",
       "\n",
       "    .dataframe tbody tr th {\n",
       "        vertical-align: top;\n",
       "    }\n",
       "\n",
       "    .dataframe thead th {\n",
       "        text-align: right;\n",
       "    }\n",
       "</style>\n",
       "<table border=\"1\" class=\"dataframe\">\n",
       "  <thead>\n",
       "    <tr style=\"text-align: right;\">\n",
       "      <th></th>\n",
       "      <th>first_mile_distance</th>\n",
       "      <th>last_mile_distance</th>\n",
       "      <th>cancelled</th>\n",
       "      <th>lifetime_order_count</th>\n",
       "      <th>reassignment_method</th>\n",
       "      <th>reassignment_reason</th>\n",
       "      <th>reassigned_order</th>\n",
       "      <th>session_time</th>\n",
       "      <th>cancelled_time</th>\n",
       "      <th>order_date_dayofweek</th>\n",
       "      <th>order_time_hour</th>\n",
       "      <th>diff_allot-order</th>\n",
       "      <th>diff_accept-allot</th>\n",
       "      <th>diff_pickup-accept</th>\n",
       "      <th>diff_delivered-pickup</th>\n",
       "      <th>fraction_undelivered</th>\n",
       "    </tr>\n",
       "  </thead>\n",
       "  <tbody>\n",
       "    <tr>\n",
       "      <th>0</th>\n",
       "      <td>1.5666</td>\n",
       "      <td>2.65</td>\n",
       "      <td>0</td>\n",
       "      <td>621.0</td>\n",
       "      <td>NaN</td>\n",
       "      <td>NaN</td>\n",
       "      <td>0</td>\n",
       "      <td>NaN</td>\n",
       "      <td>NaT</td>\n",
       "      <td>Tuesday</td>\n",
       "      <td>2</td>\n",
       "      <td>24.0</td>\n",
       "      <td>9.0</td>\n",
       "      <td>643.0</td>\n",
       "      <td>1016.0</td>\n",
       "      <td>0.0</td>\n",
       "    </tr>\n",
       "    <tr>\n",
       "      <th>1</th>\n",
       "      <td>2.5207</td>\n",
       "      <td>2.76</td>\n",
       "      <td>0</td>\n",
       "      <td>105.0</td>\n",
       "      <td>NaN</td>\n",
       "      <td>NaN</td>\n",
       "      <td>0</td>\n",
       "      <td>3.266667</td>\n",
       "      <td>NaT</td>\n",
       "      <td>Tuesday</td>\n",
       "      <td>2</td>\n",
       "      <td>41.0</td>\n",
       "      <td>48.0</td>\n",
       "      <td>940.0</td>\n",
       "      <td>1250.0</td>\n",
       "      <td>0.0</td>\n",
       "    </tr>\n",
       "    <tr>\n",
       "      <th>2</th>\n",
       "      <td>2.2074</td>\n",
       "      <td>4.80</td>\n",
       "      <td>0</td>\n",
       "      <td>66.0</td>\n",
       "      <td>NaN</td>\n",
       "      <td>NaN</td>\n",
       "      <td>0</td>\n",
       "      <td>9.816667</td>\n",
       "      <td>NaT</td>\n",
       "      <td>Tuesday</td>\n",
       "      <td>2</td>\n",
       "      <td>8.0</td>\n",
       "      <td>16.0</td>\n",
       "      <td>947.0</td>\n",
       "      <td>1006.0</td>\n",
       "      <td>0.0</td>\n",
       "    </tr>\n",
       "    <tr>\n",
       "      <th>3</th>\n",
       "      <td>2.1894</td>\n",
       "      <td>6.38</td>\n",
       "      <td>0</td>\n",
       "      <td>127.0</td>\n",
       "      <td>NaN</td>\n",
       "      <td>NaN</td>\n",
       "      <td>0</td>\n",
       "      <td>17.533333</td>\n",
       "      <td>NaT</td>\n",
       "      <td>Tuesday</td>\n",
       "      <td>2</td>\n",
       "      <td>32.0</td>\n",
       "      <td>41.0</td>\n",
       "      <td>1965.0</td>\n",
       "      <td>1154.0</td>\n",
       "      <td>0.0</td>\n",
       "    </tr>\n",
       "    <tr>\n",
       "      <th>4</th>\n",
       "      <td>2.7870</td>\n",
       "      <td>4.01</td>\n",
       "      <td>0</td>\n",
       "      <td>84.0</td>\n",
       "      <td>NaN</td>\n",
       "      <td>NaN</td>\n",
       "      <td>0</td>\n",
       "      <td>1.350000</td>\n",
       "      <td>NaT</td>\n",
       "      <td>Tuesday</td>\n",
       "      <td>3</td>\n",
       "      <td>51.0</td>\n",
       "      <td>36.0</td>\n",
       "      <td>1421.0</td>\n",
       "      <td>1717.0</td>\n",
       "      <td>0.0</td>\n",
       "    </tr>\n",
       "  </tbody>\n",
       "</table>\n",
       "</div>"
      ],
      "text/plain": [
       "   first_mile_distance  last_mile_distance  cancelled  lifetime_order_count  \\\n",
       "0               1.5666                2.65          0                 621.0   \n",
       "1               2.5207                2.76          0                 105.0   \n",
       "2               2.2074                4.80          0                  66.0   \n",
       "3               2.1894                6.38          0                 127.0   \n",
       "4               2.7870                4.01          0                  84.0   \n",
       "\n",
       "  reassignment_method reassignment_reason  reassigned_order  session_time  \\\n",
       "0                 NaN                 NaN                 0           NaN   \n",
       "1                 NaN                 NaN                 0      3.266667   \n",
       "2                 NaN                 NaN                 0      9.816667   \n",
       "3                 NaN                 NaN                 0     17.533333   \n",
       "4                 NaN                 NaN                 0      1.350000   \n",
       "\n",
       "  cancelled_time order_date_dayofweek  order_time_hour  diff_allot-order  \\\n",
       "0            NaT              Tuesday                2              24.0   \n",
       "1            NaT              Tuesday                2              41.0   \n",
       "2            NaT              Tuesday                2               8.0   \n",
       "3            NaT              Tuesday                2              32.0   \n",
       "4            NaT              Tuesday                3              51.0   \n",
       "\n",
       "   diff_accept-allot  diff_pickup-accept  diff_delivered-pickup  \\\n",
       "0                9.0               643.0                 1016.0   \n",
       "1               48.0               940.0                 1250.0   \n",
       "2               16.0               947.0                 1006.0   \n",
       "3               41.0              1965.0                 1154.0   \n",
       "4               36.0              1421.0                 1717.0   \n",
       "\n",
       "   fraction_undelivered  \n",
       "0                   0.0  \n",
       "1                   0.0  \n",
       "2                   0.0  \n",
       "3                   0.0  \n",
       "4                   0.0  "
      ]
     },
     "execution_count": 16,
     "metadata": {},
     "output_type": "execute_result"
    }
   ],
   "source": [
    "train_data.head()"
   ]
  },
  {
   "cell_type": "code",
   "execution_count": 17,
   "metadata": {},
   "outputs": [
    {
     "data": {
      "text/html": [
       "<div>\n",
       "<style scoped>\n",
       "    .dataframe tbody tr th:only-of-type {\n",
       "        vertical-align: middle;\n",
       "    }\n",
       "\n",
       "    .dataframe tbody tr th {\n",
       "        vertical-align: top;\n",
       "    }\n",
       "\n",
       "    .dataframe thead th {\n",
       "        text-align: right;\n",
       "    }\n",
       "</style>\n",
       "<table border=\"1\" class=\"dataframe\">\n",
       "  <thead>\n",
       "    <tr style=\"text-align: right;\">\n",
       "      <th></th>\n",
       "      <th>order_id</th>\n",
       "      <th>reason_text</th>\n",
       "      <th>user_type</th>\n",
       "      <th>rider_id</th>\n",
       "      <th>cancelled</th>\n",
       "    </tr>\n",
       "  </thead>\n",
       "  <tbody>\n",
       "    <tr>\n",
       "      <th>0</th>\n",
       "      <td>556753</td>\n",
       "      <td>NaN</td>\n",
       "      <td>customer</td>\n",
       "      <td>11696</td>\n",
       "      <td>0</td>\n",
       "    </tr>\n",
       "    <tr>\n",
       "      <th>1</th>\n",
       "      <td>556753</td>\n",
       "      <td>NaN</td>\n",
       "      <td>customer</td>\n",
       "      <td>11696</td>\n",
       "      <td>0</td>\n",
       "    </tr>\n",
       "    <tr>\n",
       "      <th>2</th>\n",
       "      <td>556754</td>\n",
       "      <td>NaN</td>\n",
       "      <td>customer</td>\n",
       "      <td>18117</td>\n",
       "      <td>0</td>\n",
       "    </tr>\n",
       "    <tr>\n",
       "      <th>3</th>\n",
       "      <td>556755</td>\n",
       "      <td>NaN</td>\n",
       "      <td>customer</td>\n",
       "      <td>18623</td>\n",
       "      <td>0</td>\n",
       "    </tr>\n",
       "    <tr>\n",
       "      <th>4</th>\n",
       "      <td>556755</td>\n",
       "      <td>NaN</td>\n",
       "      <td>customer</td>\n",
       "      <td>18623</td>\n",
       "      <td>0</td>\n",
       "    </tr>\n",
       "  </tbody>\n",
       "</table>\n",
       "</div>"
      ],
      "text/plain": [
       "   order_id reason_text user_type  rider_id  cancelled\n",
       "0    556753         NaN  customer     11696          0\n",
       "1    556753         NaN  customer     11696          0\n",
       "2    556754         NaN  customer     18117          0\n",
       "3    556755         NaN  customer     18623          0\n",
       "4    556755         NaN  customer     18623          0"
      ]
     },
     "execution_count": 17,
     "metadata": {},
     "output_type": "execute_result"
    }
   ],
   "source": [
    "call_data.head()"
   ]
  },
  {
   "cell_type": "code",
   "execution_count": 18,
   "metadata": {},
   "outputs": [],
   "source": [
    "sns.set_style('whitegrid')"
   ]
  },
  {
   "cell_type": "code",
   "execution_count": 19,
   "metadata": {},
   "outputs": [],
   "source": [
    "df1 = train_data[train_data['cancelled'] == 1]"
   ]
  },
  {
   "cell_type": "code",
   "execution_count": 20,
   "metadata": {},
   "outputs": [
    {
     "data": {
      "image/png": "[encoded data removed]",
      "text/plain": [
       "<Figure size 432x288 with 1 Axes>"
      ]
     },
     "metadata": {},
     "output_type": "display_data"
    }
   ],
   "source": [
    "ax = sns.countplot(x='order_time_hour', data=df1.loc[(df1['order_date_dayofweek'] == 'Saturday') | (df1['order_date_dayofweek'] == 'Sunday'),:])\n",
    "ax.set_xlabel('Hour of the Day')\n",
    "ax.set_ylabel('Number of Orders Cancelled')\n",
    "ax.set_title('Hourly Trend on Weekends')\n",
    "ax.get_figure().savefig('out5.png', dpi=300)"
   ]
  },
  {
   "cell_type": "code",
   "execution_count": 21,
   "metadata": {},
   "outputs": [
    {
     "data": {
      "image/png": "[encoded data removed]",
      "text/plain": [
       "<Figure size 432x288 with 1 Axes>"
      ]
     },
     "metadata": {},
     "output_type": "display_data"
    }
   ],
   "source": [
    "ax = sns.countplot(x='order_time_hour', data=df1.loc[(df1['order_date_dayofweek'] != 'Saturday') & (df1['order_date_dayofweek'] != 'Sunday'),:])\n",
    "ax.set_xlabel('Hour of the Day')\n",
    "ax.set_ylabel('Number of Orders Cancelled')\n",
    "ax.set_title('Hourly Trend on Weekdays')\n",
    "ax.get_figure().savefig('out6.png', dpi=300)"
   ]
  },
  {
   "cell_type": "code",
   "execution_count": 22,
   "metadata": {},
   "outputs": [
    {
     "data": {
      "image/png": "[encoded data removed]",
      "text/plain": [
       "<Figure size 432x288 with 1 Axes>"
      ]
     },
     "metadata": {},
     "output_type": "display_data"
    }
   ],
   "source": [
    "ax = sns.countplot(x='order_time_hour', data=train_data.loc[(train_data['order_date_dayofweek'] == 'Saturday') | (train_data['order_date_dayofweek'] == 'Sunday'),:])\n",
    "ax.set_xlabel('Hour of the Day')\n",
    "ax.set_ylabel('Number of Orders Placed')\n",
    "ax.set_title('Hourly Trend on Weekends')\n",
    "ax.get_figure().savefig('out3.png', dpi=300)"
   ]
  },
  {
   "cell_type": "code",
   "execution_count": 23,
   "metadata": {},
   "outputs": [
    {
     "data": {
      "image/png": "[encoded data removed]",
      "text/plain": [
       "<Figure size 432x288 with 1 Axes>"
      ]
     },
     "metadata": {},
     "output_type": "display_data"
    }
   ],
   "source": [
    "ax = sns.countplot(x='order_time_hour', data=train_data.loc[(train_data['order_date_dayofweek'] != 'Saturday') & (train_data['order_date_dayofweek'] != 'Sunday'),:])\n",
    "ax.set_xlabel('Hour of the Day')\n",
    "ax.set_ylabel('Number of Orders Placed')\n",
    "ax.set_title('Hourly Trend on Weekdays')\n",
    "ax.get_figure().savefig('out4.png', dpi=300)"
   ]
  },
  {
   "cell_type": "code",
   "execution_count": 24,
   "metadata": {},
   "outputs": [
    {
     "data": {
      "image/png": "[encoded data removed]",
      "text/plain": [
       "<Figure size 432x288 with 1 Axes>"
      ]
     },
     "metadata": {},
     "output_type": "display_data"
    }
   ],
   "source": [
    "ax = sns.boxenplot(x='cancelled', y='fraction_undelivered', data=train_data)\n",
    "ax.set_ylim(0,0.5)\n",
    "ax.set_xlabel('Cancelled')\n",
    "ax.set_ylabel('Fraction of Undelivered Orders in Last 30 days')\n",
    "ax.get_figure().savefig('out1.png', dpi=300)\n"
   ]
  },
  {
   "cell_type": "code",
   "execution_count": 25,
   "metadata": {},
   "outputs": [
    {
     "data": {
      "image/png": "[encoded data removed]",
      "text/plain": [
       "<Figure size 432x288 with 1 Axes>"
      ]
     },
     "metadata": {},
     "output_type": "display_data"
    }
   ],
   "source": [
    "ax = sns.boxplot(x='cancelled', y='lifetime_order_count', data=train_data)\n",
    "ax.set_ylim(0,2500)\n",
    "ax.set_xlabel('Cancelled')\n",
    "ax.set_ylabel('Lifetime Order Count')\n",
    "ax.get_figure().savefig('out2.png', dpi=300)"
   ]
  },
  {
   "cell_type": "code",
   "execution_count": 26,
   "metadata": {},
   "outputs": [
    {
     "name": "stdout",
     "output_type": "stream",
     "text": [
      "Percentage of orders delivered without reassignment =  95.95\n",
      "Percentage of orders cancelled without reassignment =  1.0\n",
      "Percentage of orders delivered after reassignment =  2.9\n",
      "Percentage of orders reassignment after cancellation =  0.15\n"
     ]
    }
   ],
   "source": [
    "df1 = train_data.loc[(train_data['reassigned_order'] == 0) & (train_data['cancelled'] == 0),:]\n",
    "df2 = train_data.loc[(train_data['reassigned_order'] == 0) & (train_data['cancelled'] == 1),:]\n",
    "df3 = train_data.loc[(train_data['reassigned_order'] == 1) & (train_data['cancelled'] == 0),:]\n",
    "df4 = train_data.loc[(train_data['reassigned_order'] == 1) & (train_data['cancelled'] == 1),:]\n",
    "\n",
    "print('Percentage of orders delivered without reassignment = ', round(len(df1)/len(train_data)*100,2))\n",
    "print('Percentage of orders cancelled without reassignment = ', round(len(df2)/len(train_data)*100,2))\n",
    "print('Percentage of orders delivered after reassignment = ', round(len(df3)/len(train_data)*100,2))\n",
    "print('Percentage of orders reassignment after cancellation = ', round(len(df4)/len(train_data)*100,2))"
   ]
  },
  {
   "cell_type": "code",
   "execution_count": null,
   "metadata": {},
   "outputs": [],
   "source": []
  }
 ],
 "metadata": {
  "interpreter": {
   "hash": "ab7110bb443c452a42953bcb1fe6b1943316b247dee3a7b2b83d4d82481f40a8"
  },
  "kernelspec": {
   "display_name": "Python 3.9.7 ('env': conda)",
   "language": "python",
   "name": "python3"
  },
  "language_info": {
   "codemirror_mode": {
    "name": "ipython",
    "version": 3
   },
   "file_extension": ".py",
   "mimetype": "text/x-python",
   "name": "python",
   "nbconvert_exporter": "python",
   "pygments_lexer": "ipython3",
   "version": "3.9.7"
  },
  "orig_nbformat": 4
 },
 "nbformat": 4,
 "nbformat_minor": 2
}
